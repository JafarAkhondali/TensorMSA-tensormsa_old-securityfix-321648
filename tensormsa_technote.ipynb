{
 "cells": [
  {
   "cell_type": "markdown",
   "metadata": {
    "collapsed": true,
    "nbpresent": {
     "id": "f0246b4e-48aa-4746-bab9-a426de426ac9"
    }
   },
   "source": [
    "<h1>1. Platform 및 과제 개요</h1><br>"
   ]
  },
  {
   "cell_type": "markdown",
   "metadata": {},
   "source": [
    "<h1>2. 개발 관점 적용 기술</h1> <br>\n",
    "<h2> <font color =blue> by theme </font></h2> <br>\n",
    "<h2>1) Front-End : React(ES6), SVG, D3, Pure CSS </h2><br>\n",
    "<h2>2) Back-End : Django F/W, Tensorflow, PostgreSQL, Spark </h2><br>\n",
    "<h2>3) AWS </h2><br>\n",
    "<h2>4) Methodology : Jenkins, Redmine, TDD</h2><br>\n",
    "<h2>  <font color =blue>by keyword </font></h2> <br>\n",
    "<h2>1) Language </h2><br>\n",
    "<h3>• Python </h3><br>\n",
    "<h2> 2) Web Server</h2><br>\n",
    "<h3>• Django </h3><br>\n",
    "<h2> 3) Rest Framework <br></h2>\n",
    "<h3>• Django RestFramework</h3><br>\n",
    "<h3>• REST</h3><br>\n",
    "<h2> 4) RDB</h2><br>\n",
    "<h3>• Postgresql</h3><br>\n",
    "<h2> 5) Spark ECO</h2><br>\n",
    "<h3>• Spark</h3><br>\n",
    "<h3>• Docker</h3><br>\n",
    "<h3>• HDFS</h3><br>\n",
    "<h3>• S3</h3><br>\n",
    "<h3>• Livy</h3><br>\n",
    "<h2> 6) Hadoop ECO</h2><br>\n",
    "<h3>• HDFS</h3><br>\n",
    "<h3>• CDH</h3><br>\n",
    "<h3>• Hive</h3><br>\n",
    "<h3>• Hbase</h3><br>\n",
    "<h3>• Sqoop</h3><br>\n",
    "<h3>• Flume</h3><br>\n",
    "<h3>• Yarn</h3><br>\n",
    "<h3>• Oozie</h3><br>\n",
    "<h2> 7) Tensorflow</h2><br>\n",
    "<h3>• CNN</h3><br>\n",
    "<h3>• RNN</h3><br>\n",
    "<h3>• DNN</h3><br>\n",
    "<h3>• Reinforce</h3><br>\n",
    "<h3>• Wide/Deep Learning</h3><br>\n",
    "<h3>• Preprocessing</h3><br>\n",
    "<h2> 8) Web Tech</h2><br>\n",
    "<h3>• ES6</h3><br>\n",
    "<h3>• React</h3><br>\n",
    "<h3>• Type Script</h3><br>\n",
    "\n",
    "<h2> 9) Development Environment</h2><br>\n",
    "<h3>• Minimum Dev Docker</h3><br>\n",
    "<h3>• Full Dev Docker</h3><br>\n",
    "<h3>• Server Runtime Docker</h3><br>\n",
    "\n",
    "<h2> 10) AWS</h2><hr>"
   ]
  },
  {
   "cell_type": "markdown",
   "metadata": {
    "nbpresent": {
     "id": "039f474c-7a6b-4b6f-bc6c-11e9ce47dede"
    }
   },
   "source": [
    "<h1>3. 프로젝트 관점 Trend</h1><br>\n",
    "<h2> 1) Jenkins</h2><br>\n",
    "<h2> 2) RedMine</h2><br>\n",
    "<h2> 3) TDD</h2><br>"
   ]
  },
  {
   "cell_type": "markdown",
   "metadata": {
    "nbpresent": {
     "id": "b1964689-d8d7-43d3-929d-4d28c2748bb3"
    }
   },
   "source": [
    "<h1>4. Platform 기능 설명</h1><br>\n",
    "• REST APIs corresponding to Tensorflow <br>\n",
    "• JAVA API component interface with python REST APIS<br>\n",
    "• Easy to use UI component provide NN configuration, train remotly, save & load NN models, handling train data sets<br>\n",
    "• Train NN models via Spark cluster supportedv\n",
    "• Android mobile SDK are also part of the plan (gather data and predict)<br>\n",
    "<img src=\"https://raw.githubusercontent.com/seungwookim/TensorMSA/master/ProjectDesc3.png\">"
   ]
  },
  {
   "cell_type": "markdown",
   "metadata": {
    "nbpresent": {
     "id": "16ee29ca-93bc-439d-9fe4-42ee81374109"
    }
   },
   "source": [
    "<h1>5. 데모 및 동영상</h1><br>"
   ]
  },
  {
   "cell_type": "markdown",
   "metadata": {
    "nbpresent": {
     "id": "5fbfb3ab-3090-42d9-bf4d-7be50d32cc24"
    }
   },
   "source": [
    "<h1>6. 실 사용 사례(데이터)</h1><br>"
   ]
  },
  {
   "cell_type": "markdown",
   "metadata": {
    "nbpresent": {
     "id": "ffb5a29c-3f10-46e6-91fd-6fbcf9107f40"
    }
   },
   "source": [
    "<h1>7. 향후 계획</h1><br>"
   ]
  }
 ],
 "metadata": {
  "celltoolbar": "Raw Cell Format",
  "kernelspec": {
   "display_name": "Python [Root]",
   "language": "python",
   "name": "Python [Root]"
  },
  "language_info": {
   "codemirror_mode": {
    "name": "ipython",
    "version": 2
   },
   "file_extension": ".py",
   "mimetype": "text/x-python",
   "name": "python",
   "nbconvert_exporter": "python",
   "pygments_lexer": "ipython2",
   "version": "2.7.12"
  },
  "nbpresent": {
   "slides": {},
   "themes": {}
  }
 },
 "nbformat": 4,
 "nbformat_minor": 0
}
